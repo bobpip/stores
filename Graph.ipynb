{
 "cells": [
  {
   "cell_type": "code",
   "execution_count": 1,
   "metadata": {},
   "outputs": [],
   "source": [
    "class Graph(dict):\n",
    "    def __init__(self, num_v):\n",
    "        for i in range(num_v):\n",
    "            self[i] = {}        \n",
    "        \n",
    "    def add_edge(self, v, u, d):\n",
    "        self[v][u] = d\n",
    "        self[u][v] = d\n",
    "        \n",
    "    def get_edges(self, v):\n",
    "        return self[v]\n",
    "    "
   ]
  },
  {
   "cell_type": "code",
   "execution_count": 19,
   "metadata": {},
   "outputs": [],
   "source": [
    "def get_ans(pre, s, t, w):\n",
    "    d = {'count':0, 'max_w':0}\n",
    "    u = s\n",
    "    def recurse(pre, u, t, w, d, cur_w):\n",
    "        cur_w += w[u]\n",
    "        if cur_w >= d['max_w']: d['max_w'] = cur_w; \n",
    "        if u == t:\n",
    "            d['count'] += 1\n",
    "            return\n",
    "        for v in pre[u]:\n",
    "            recurse(pre, v, t, w, d, cur_w)\n",
    "    recurse(pre, u, t, w, d, 0)\n",
    "    return d   "
   ]
  },
  {
   "cell_type": "code",
   "execution_count": 3,
   "metadata": {},
   "outputs": [],
   "source": [
    "def get_route(pre, s, t):\n",
    "    route = ''\n",
    "    ROUTE = []\n",
    "    u = s\n",
    "    def recurse(pre, u, t, ROUTE, route):\n",
    "        route += str(u) + ' '\n",
    "        if u == t:\n",
    "            route = route[:-1]\n",
    "            ROUTE.append([int(i) for i in route.split(' ')])\n",
    "            return\n",
    "        for v in pre[u]:\n",
    "            recurse(pre, v, t, ROUTE, route)\n",
    "    recurse(pre, u, t, ROUTE, route)\n",
    "    return ROUTE"
   ]
  },
  {
   "cell_type": "code",
   "execution_count": 4,
   "metadata": {},
   "outputs": [],
   "source": [
    "def Dijkstra(G, s, t=None):\n",
    "    d = {}\n",
    "    previous = {}\n",
    "    for i in G:\n",
    "        d[i] = float('inf')\n",
    "\n",
    "    d[s] = 0\n",
    "    S = []\n",
    "    Q = [i for i in G]\n",
    "    while Q:\n",
    "        Q_d = {}\n",
    "        for i in Q:\n",
    "            Q_d[i] = d[i]\n",
    "        min_d = min(Q_d, key=Q_d.get)\n",
    "        u = Q.pop(Q.index(min_d))\n",
    "        if t: \n",
    "            if u == t: \n",
    "                break\n",
    "        S.append(u)\n",
    "        d_edges = G.get_edges(u)\n",
    "        for v, vd in d_edges.items():\n",
    "            if d[v] > d[u] + vd:\n",
    "                d[v] = d[u] + vd\n",
    "                previous[v] = [u]\n",
    "            elif d[v] == d[u] + vd:\n",
    "                previous.setdefault(v, []).append(u)\n",
    "    \n",
    "    return d, previous"
   ]
  },
  {
   "cell_type": "code",
   "execution_count": 14,
   "metadata": {},
   "outputs": [],
   "source": [
    "def Dijkstra(G, s, t=None):\n",
    "    d = {i:float('inf') for i in G}\n",
    "    d[s] = 0\n",
    "    previous = {}\n",
    "    S = []\n",
    "    Q = [i for i in G]\n",
    "    \n",
    "    while Q:\n",
    "        Q_d = {k:d[k] for k in Q}\n",
    "        min_key = min(Q_d, key=Q_d.get)\n",
    "        u = Q.pop(Q.index(min_key))\n",
    "        S.append(u)\n",
    "        if t:\n",
    "            if u == t: break\n",
    "        e_lens = G.get_edges(u)\n",
    "        for v, le in e_lens.items():\n",
    "            if d[v] > d[u] + le:\n",
    "                d[v] = d[u] + le\n",
    "                previous[v] = [u]\n",
    "            elif d[v] == d[u] + le:\n",
    "                previous.setdefault(v, []).append(u)\n",
    "                \n",
    "    return d, previous"
   ]
  },
  {
   "cell_type": "code",
   "execution_count": 28,
   "metadata": {},
   "outputs": [],
   "source": [
    "import random\n",
    "g = Graph(500)\n",
    "for i in range(10):\n",
    "    g.add_edge(i, i+1, 1)\n",
    "\n",
    "# g.add_edge(6, 300, 2)\n",
    "# g.add_edge(300, 1, 3)\n",
    "for _ in range(1000):\n",
    "    u = random.choice(range(500))\n",
    "    v = random.choice(range(500))\n",
    "    if v == u: continue\n",
    "    g.add_edge(u, v, int(10 * random.random() + 1))"
   ]
  },
  {
   "cell_type": "code",
   "execution_count": 29,
   "metadata": {},
   "outputs": [],
   "source": [
    "min_d, pre = Dijkstra(g, 0, 9)\n",
    "# print(pre)"
   ]
  },
  {
   "cell_type": "code",
   "execution_count": 30,
   "metadata": {
    "scrolled": false
   },
   "outputs": [
    {
     "name": "stdout",
     "output_type": "stream",
     "text": [
      "CPU times: user 32 µs, sys: 1 µs, total: 33 µs\n",
      "Wall time: 37.2 µs\n"
     ]
    },
    {
     "data": {
      "text/plain": [
       "[[9, 316, 444, 152, 2, 1, 0], [9, 450, 92, 1, 0]]"
      ]
     },
     "execution_count": 30,
     "metadata": {},
     "output_type": "execute_result"
    }
   ],
   "source": [
    "%time get_route(pre, 9, 0)"
   ]
  },
  {
   "cell_type": "code",
   "execution_count": 31,
   "metadata": {},
   "outputs": [
    {
     "name": "stdout",
     "output_type": "stream",
     "text": [
      "CPU times: user 17 µs, sys: 1e+03 ns, total: 18 µs\n",
      "Wall time: 21.9 µs\n",
      "2 924\n"
     ]
    }
   ],
   "source": [
    "t2 = [i for i in range(500)]\n",
    "%time dd = get_ans(pre, 9, 0, t2)\n",
    "print(dd['count'], dd['max_w'])"
   ]
  },
  {
   "cell_type": "code",
   "execution_count": null,
   "metadata": {},
   "outputs": [],
   "source": []
  }
 ],
 "metadata": {
  "kernelspec": {
   "display_name": "Python 3",
   "language": "python",
   "name": "python3"
  },
  "language_info": {
   "codemirror_mode": {
    "name": "ipython",
    "version": 3
   },
   "file_extension": ".py",
   "mimetype": "text/x-python",
   "name": "python",
   "nbconvert_exporter": "python",
   "pygments_lexer": "ipython3",
   "version": "3.6.4"
  }
 },
 "nbformat": 4,
 "nbformat_minor": 2
}
