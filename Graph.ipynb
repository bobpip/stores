{
 "cells": [
  {
   "cell_type": "code",
   "execution_count": 1,
   "metadata": {},
   "outputs": [],
   "source": [
    "class Graph:\n",
    "    def __init__(self, num_v):\n",
    "        self.E = [[float('inf') for i in range(num_v)] for i in range(num_v)]\n",
    "        self.V = [i for i in range(num_v)]\n",
    "        \n",
    "    def add_edge(self, v, u, d):\n",
    "        self.E[v][u] = d\n",
    "        self.E[u][v] = d\n",
    "        \n",
    "    def get_distance(self, v):\n",
    "        return self.E[v]\n",
    "    "
   ]
  },
  {
   "cell_type": "code",
   "execution_count": 2,
   "metadata": {},
   "outputs": [],
   "source": [
    "def Dijkstra(G, s):\n",
    "    d = {}\n",
    "    previous = [[] for i in range(len(G.V))]\n",
    "    for i in G.V:\n",
    "        d[i] = float('inf')\n",
    "\n",
    "    d[s] = 0\n",
    "    S = []\n",
    "    Q = [i for i in G.V]  \n",
    "    while Q:\n",
    "        min_v = min(d, key=d.get)\n",
    "        u = Q.pop(min_v)\n",
    "        S.append(u)\n",
    "        distance = G.get_distance(u)\n",
    "        for i in range(len(distance)):\n",
    "            if d[i] > d[u] + distance[i]:\n",
    "                d[i] = d[u] + distance[i]\n",
    "                previous[i].append(u) \n",
    "    \n",
    "    print(d)\n",
    "    print(previous)\n",
    "    "
   ]
  },
  {
   "cell_type": "code",
   "execution_count": 3,
   "metadata": {},
   "outputs": [
    {
     "data": {
      "text/plain": [
       "[[inf, 1, inf, 4], [1, inf, 1, inf], [inf, 1, inf, 1], [4, inf, 1, inf]]"
      ]
     },
     "execution_count": 3,
     "metadata": {},
     "output_type": "execute_result"
    }
   ],
   "source": [
    "g = Graph(4)\n",
    "g.add_edge(0,1,1)\n",
    "g.add_edge(0,3,4)\n",
    "g.add_edge(1,2,1)\n",
    "g.add_edge(2,3,1)\n",
    "g.E"
   ]
  },
  {
   "cell_type": "code",
   "execution_count": 4,
   "metadata": {},
   "outputs": [
    {
     "name": "stdout",
     "output_type": "stream",
     "text": [
      "{0: 0, 1: 1, 2: 2, 3: 3}\n",
      "[[], [0], [1], [0, 2]]\n"
     ]
    }
   ],
   "source": [
    "Dijkstra(g, 0)"
   ]
  },
  {
   "cell_type": "code",
   "execution_count": null,
   "metadata": {},
   "outputs": [],
   "source": []
  }
 ],
 "metadata": {
  "kernelspec": {
   "display_name": "Python 3",
   "language": "python",
   "name": "python3"
  },
  "language_info": {
   "codemirror_mode": {
    "name": "ipython",
    "version": 3
   },
   "file_extension": ".py",
   "mimetype": "text/x-python",
   "name": "python",
   "nbconvert_exporter": "python",
   "pygments_lexer": "ipython3",
   "version": "3.6.6"
  }
 },
 "nbformat": 4,
 "nbformat_minor": 2
}
