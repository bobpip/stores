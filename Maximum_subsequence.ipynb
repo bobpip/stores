{
 "cells": [
  {
   "cell_type": "code",
   "execution_count": 1,
   "metadata": {},
   "outputs": [],
   "source": [
    "K = int(input())\n",
    "N = [int(i) for i in input().split(' ')]\n",
    "\n",
    "def doNothing():\n",
    "  return\n",
    "\n",
    "def get_max(N):\n",
    "  acc = 0\n",
    "  MAX = 0\n",
    "  for i in range(K):\n",
    "    acc += N[i]\n",
    "    if acc < 0:\n",
    "      acc = 0\n",
    "      continue\n",
    "    elif acc > MAX:\n",
    "      MAX = acc\n",
    "      continue\n",
    "    else:\n",
    "      doNothing()\n",
    "      \n",
    "  return MAX\n",
    "\n",
    "def get_nums(N, MAX):\n",
    "  acc = 0\n",
    "  left = 0\n",
    "  right = 0\n",
    "  flag = 1\n",
    "  for i in range(K):\n",
    "    if flag == 1:\n",
    "      left = right = i\n",
    "    else:\n",
    "      right = i\n",
    "    flag = 0\n",
    "    \n",
    "    acc += N[i]\n",
    "    if acc < 0:\n",
    "      acc = 0\n",
    "      flag = 1\n",
    "    elif acc == MAX:\n",
    "      break\n",
    "  \n",
    "  return N[left], N[right]\n",
    "  \n",
    "def main():\n",
    "  flag = []\n",
    "  for i in N:\n",
    "    if i < 0:\n",
    "      flag.append(True)\n",
    "    elif i >= 0:\n",
    "      flag.append(False)\n",
    "\n",
    "  MAX = get_max(N)\n",
    "  f = get_nums(N, MAX)\n",
    "\n",
    "  if all(flag):\n",
    "    print(0, N[0], N[-1])\n",
    "  else:\n",
    "    print(MAX, *f)\n",
    "\n",
    "main()\n"
   ]
  },
  {
   "cell_type": "code",
   "execution_count": null,
   "metadata": {},
   "outputs": [],
   "source": []
  },
  {
   "cell_type": "code",
   "execution_count": null,
   "metadata": {},
   "outputs": [],
   "source": []
  }
 ],
 "metadata": {
  "kernelspec": {
   "display_name": "Python 3",
   "language": "python",
   "name": "python3"
  },
  "language_info": {
   "codemirror_mode": {
    "name": "ipython",
    "version": 3
   },
   "file_extension": ".py",
   "mimetype": "text/x-python",
   "name": "python",
   "nbconvert_exporter": "python",
   "pygments_lexer": "ipython3",
   "version": "3.6.4"
  }
 },
 "nbformat": 4,
 "nbformat_minor": 2
}
