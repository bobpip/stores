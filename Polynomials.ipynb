{
 "cells": [
  {
   "cell_type": "code",
   "execution_count": 150,
   "metadata": {},
   "outputs": [],
   "source": [
    "import random\n",
    "j, k = 9, 7\n",
    "\n",
    "P1 = [(random.randint(0,10), random.randint(0, 20000)) for i in range(j)]\n",
    "P2 = [(random.randint(0,10), P1[i][1]) for i in range(k)]"
   ]
  },
  {
   "cell_type": "code",
   "execution_count": 151,
   "metadata": {},
   "outputs": [
    {
     "name": "stdout",
     "output_type": "stream",
     "text": [
      "[(6, 11754), (2, 10066), (0, 18886), (6, 10786), (5, 19686), (10, 17419), (6, 8733), (2, 17265), (9, 17478)]\n",
      "[(7, 11754), (4, 10066), (1, 18886), (0, 10786), (8, 19686), (10, 17419), (7, 8733)]\n"
     ]
    }
   ],
   "source": [
    "print(P1)\n",
    "print(P2)"
   ]
  },
  {
   "cell_type": "code",
   "execution_count": 152,
   "metadata": {},
   "outputs": [],
   "source": [
    "def poly_sum(P1, P2):\n",
    "    P2 = sorted(P2, key=lambda x: x[1], reverse=True)\n",
    "    P1 = sorted(P1, key=lambda x: x[1], reverse=True)\n",
    "    p1 = p2 = 0\n",
    "    e1 = len(P1)\n",
    "    e2 = len(P2)\n",
    "    res = []\n",
    "    \n",
    "    while True:\n",
    "        if (p1 == e1) & (p2 != e2):\n",
    "            res.extend(P2[p2:])\n",
    "            break\n",
    "        elif (p2 == e2) & (p1 != e1):\n",
    "            res.extend(P1[p1:])\n",
    "            break\n",
    "        elif (p1 == e1) & (p2 == e2):\n",
    "            break\n",
    "        else:\n",
    "            if P1[p1][1] > P2[p2][1]:\n",
    "                res.append(P1[p1])\n",
    "                p1 += 1\n",
    "            elif P1[p1][1] < P2[p2][1]:\n",
    "                res.append(P2[p2])\n",
    "                p2 += 2\n",
    "            elif P1[p1][1] == P2[p2][1]:\n",
    "                res.append[(P1[p1][0] + P2[p2][0], P1[p1][1])]\n",
    "                p1 += 1\n",
    "                p2 += 1\n",
    "    return res"
   ]
  },
  {
   "cell_type": "code",
   "execution_count": 153,
   "metadata": {},
   "outputs": [
    {
     "name": "stdout",
     "output_type": "stream",
     "text": [
      "9\n"
     ]
    }
   ],
   "source": [
    "print(len(poly_add(P1, P2)))"
   ]
  },
  {
   "cell_type": "code",
   "execution_count": 154,
   "metadata": {},
   "outputs": [
    {
     "name": "stdout",
     "output_type": "stream",
     "text": [
      "CPU times: user 27 µs, sys: 1 µs, total: 28 µs\n",
      "Wall time: 31.2 µs\n"
     ]
    },
    {
     "data": {
      "text/plain": [
       "[[13, 19686],\n",
       " [1, 18886],\n",
       " [9, 17478],\n",
       " [20, 17419],\n",
       " [2, 17265],\n",
       " [13, 11754],\n",
       " [6, 10786],\n",
       " [6, 10066],\n",
       " [13, 8733]]"
      ]
     },
     "execution_count": 154,
     "metadata": {},
     "output_type": "execute_result"
    }
   ],
   "source": [
    "%time poly_add(P1, P2)"
   ]
  },
  {
   "cell_type": "code",
   "execution_count": 170,
   "metadata": {},
   "outputs": [
    {
     "data": {
      "text/plain": [
       "False"
      ]
     },
     "execution_count": 170,
     "metadata": {},
     "output_type": "execute_result"
    }
   ],
   "source": [
    "a = 1\n",
    "b = 2\n",
    "not any((a ==1, b==2))"
   ]
  },
  {
   "cell_type": "code",
   "execution_count": 156,
   "metadata": {},
   "outputs": [
    {
     "data": {
      "text/plain": [
       "[(1, 2)]"
      ]
     },
     "execution_count": 156,
     "metadata": {},
     "output_type": "execute_result"
    }
   ],
   "source": [
    "l1"
   ]
  },
  {
   "cell_type": "code",
   "execution_count": 157,
   "metadata": {},
   "outputs": [
    {
     "data": {
      "text/plain": [
       "[(3, 4)]"
      ]
     },
     "execution_count": 157,
     "metadata": {},
     "output_type": "execute_result"
    }
   ],
   "source": [
    "l2"
   ]
  },
  {
   "cell_type": "code",
   "execution_count": null,
   "metadata": {},
   "outputs": [],
   "source": []
  }
 ],
 "metadata": {
  "kernelspec": {
   "display_name": "Python 3",
   "language": "python",
   "name": "python3"
  },
  "language_info": {
   "codemirror_mode": {
    "name": "ipython",
    "version": 3
   },
   "file_extension": ".py",
   "mimetype": "text/x-python",
   "name": "python",
   "nbconvert_exporter": "python",
   "pygments_lexer": "ipython3",
   "version": "3.6.4"
  }
 },
 "nbformat": 4,
 "nbformat_minor": 2
}
